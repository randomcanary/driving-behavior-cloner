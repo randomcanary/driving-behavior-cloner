{
 "cells": [
  {
   "cell_type": "markdown",
   "metadata": {},
   "source": [
    "# Behavioral Cloning Project\n",
    "## Exploration of the data "
   ]
  },
  {
   "cell_type": "markdown",
   "metadata": {},
   "source": [
    "### Import libraries"
   ]
  },
  {
   "cell_type": "code",
   "execution_count": 38,
   "metadata": {
    "collapsed": false
   },
   "outputs": [],
   "source": [
    "import pandas as pd\n",
    "import numpy as np\n",
    "import matplotlib.pyplot as plt\n",
    "import matplotlib.image as mpimg\n",
    "%matplotlib inline\n",
    "import cv2\n",
    "from keras.models import Sequential, Model\n",
    "from keras.layers import Flatten, Dense, Lambda, Cropping2D\n",
    "from keras.layers.convolutional import Convolution2D\n",
    "from keras.layers.pooling import MaxPooling2D"
   ]
  },
  {
   "cell_type": "markdown",
   "metadata": {},
   "source": [
    "### Explore data "
   ]
  },
  {
   "cell_type": "code",
   "execution_count": 2,
   "metadata": {
    "collapsed": false
   },
   "outputs": [
    {
     "data": {
      "text/html": [
       "<div>\n",
       "<table border=\"1\" class=\"dataframe\">\n",
       "  <thead>\n",
       "    <tr style=\"text-align: right;\">\n",
       "      <th></th>\n",
       "      <th>0</th>\n",
       "      <th>1</th>\n",
       "      <th>2</th>\n",
       "      <th>3</th>\n",
       "      <th>4</th>\n",
       "      <th>5</th>\n",
       "      <th>6</th>\n",
       "    </tr>\n",
       "  </thead>\n",
       "  <tbody>\n",
       "    <tr>\n",
       "      <th>0</th>\n",
       "      <td>/Users/lohar/Dropbox/PSDOX/CODE/Algorithms_and...</td>\n",
       "      <td>/Users/lohar/Dropbox/PSDOX/CODE/Algorithms_and...</td>\n",
       "      <td>/Users/lohar/Dropbox/PSDOX/CODE/Algorithms_and...</td>\n",
       "      <td>0.0</td>\n",
       "      <td>0.0</td>\n",
       "      <td>0</td>\n",
       "      <td>4.031484e-06</td>\n",
       "    </tr>\n",
       "    <tr>\n",
       "      <th>1</th>\n",
       "      <td>/Users/lohar/Dropbox/PSDOX/CODE/Algorithms_and...</td>\n",
       "      <td>/Users/lohar/Dropbox/PSDOX/CODE/Algorithms_and...</td>\n",
       "      <td>/Users/lohar/Dropbox/PSDOX/CODE/Algorithms_and...</td>\n",
       "      <td>0.0</td>\n",
       "      <td>0.0</td>\n",
       "      <td>0</td>\n",
       "      <td>9.378605e-07</td>\n",
       "    </tr>\n",
       "    <tr>\n",
       "      <th>2</th>\n",
       "      <td>/Users/lohar/Dropbox/PSDOX/CODE/Algorithms_and...</td>\n",
       "      <td>/Users/lohar/Dropbox/PSDOX/CODE/Algorithms_and...</td>\n",
       "      <td>/Users/lohar/Dropbox/PSDOX/CODE/Algorithms_and...</td>\n",
       "      <td>0.0</td>\n",
       "      <td>0.0</td>\n",
       "      <td>0</td>\n",
       "      <td>1.948278e-06</td>\n",
       "    </tr>\n",
       "    <tr>\n",
       "      <th>3</th>\n",
       "      <td>/Users/lohar/Dropbox/PSDOX/CODE/Algorithms_and...</td>\n",
       "      <td>/Users/lohar/Dropbox/PSDOX/CODE/Algorithms_and...</td>\n",
       "      <td>/Users/lohar/Dropbox/PSDOX/CODE/Algorithms_and...</td>\n",
       "      <td>0.0</td>\n",
       "      <td>0.0</td>\n",
       "      <td>0</td>\n",
       "      <td>1.396496e-06</td>\n",
       "    </tr>\n",
       "    <tr>\n",
       "      <th>4</th>\n",
       "      <td>/Users/lohar/Dropbox/PSDOX/CODE/Algorithms_and...</td>\n",
       "      <td>/Users/lohar/Dropbox/PSDOX/CODE/Algorithms_and...</td>\n",
       "      <td>/Users/lohar/Dropbox/PSDOX/CODE/Algorithms_and...</td>\n",
       "      <td>0.0</td>\n",
       "      <td>0.0</td>\n",
       "      <td>0</td>\n",
       "      <td>2.844180e-06</td>\n",
       "    </tr>\n",
       "  </tbody>\n",
       "</table>\n",
       "</div>"
      ],
      "text/plain": [
       "                                                   0  \\\n",
       "0  /Users/lohar/Dropbox/PSDOX/CODE/Algorithms_and...   \n",
       "1  /Users/lohar/Dropbox/PSDOX/CODE/Algorithms_and...   \n",
       "2  /Users/lohar/Dropbox/PSDOX/CODE/Algorithms_and...   \n",
       "3  /Users/lohar/Dropbox/PSDOX/CODE/Algorithms_and...   \n",
       "4  /Users/lohar/Dropbox/PSDOX/CODE/Algorithms_and...   \n",
       "\n",
       "                                                   1  \\\n",
       "0  /Users/lohar/Dropbox/PSDOX/CODE/Algorithms_and...   \n",
       "1  /Users/lohar/Dropbox/PSDOX/CODE/Algorithms_and...   \n",
       "2  /Users/lohar/Dropbox/PSDOX/CODE/Algorithms_and...   \n",
       "3  /Users/lohar/Dropbox/PSDOX/CODE/Algorithms_and...   \n",
       "4  /Users/lohar/Dropbox/PSDOX/CODE/Algorithms_and...   \n",
       "\n",
       "                                                   2    3    4  5  \\\n",
       "0  /Users/lohar/Dropbox/PSDOX/CODE/Algorithms_and...  0.0  0.0  0   \n",
       "1  /Users/lohar/Dropbox/PSDOX/CODE/Algorithms_and...  0.0  0.0  0   \n",
       "2  /Users/lohar/Dropbox/PSDOX/CODE/Algorithms_and...  0.0  0.0  0   \n",
       "3  /Users/lohar/Dropbox/PSDOX/CODE/Algorithms_and...  0.0  0.0  0   \n",
       "4  /Users/lohar/Dropbox/PSDOX/CODE/Algorithms_and...  0.0  0.0  0   \n",
       "\n",
       "              6  \n",
       "0  4.031484e-06  \n",
       "1  9.378605e-07  \n",
       "2  1.948278e-06  \n",
       "3  1.396496e-06  \n",
       "4  2.844180e-06  "
      ]
     },
     "execution_count": 2,
     "metadata": {},
     "output_type": "execute_result"
    }
   ],
   "source": [
    "data = pd.read_csv('simulator_data/driving_log.csv', header=None, index_col=False)\n",
    "data.head()"
   ]
  },
  {
   "cell_type": "code",
   "execution_count": 3,
   "metadata": {
    "collapsed": true
   },
   "outputs": [],
   "source": [
    "data.columns = ['center', 'left', 'right', 'steer', 'throttle', 'brake', 'speed']"
   ]
  },
  {
   "cell_type": "code",
   "execution_count": 4,
   "metadata": {
    "collapsed": false
   },
   "outputs": [
    {
     "data": {
      "text/html": [
       "<div>\n",
       "<table border=\"1\" class=\"dataframe\">\n",
       "  <thead>\n",
       "    <tr style=\"text-align: right;\">\n",
       "      <th></th>\n",
       "      <th>center</th>\n",
       "      <th>left</th>\n",
       "      <th>right</th>\n",
       "      <th>steer</th>\n",
       "      <th>throttle</th>\n",
       "      <th>brake</th>\n",
       "      <th>speed</th>\n",
       "    </tr>\n",
       "  </thead>\n",
       "  <tbody>\n",
       "    <tr>\n",
       "      <th>0</th>\n",
       "      <td>/Users/lohar/Dropbox/PSDOX/CODE/Algorithms_and...</td>\n",
       "      <td>/Users/lohar/Dropbox/PSDOX/CODE/Algorithms_and...</td>\n",
       "      <td>/Users/lohar/Dropbox/PSDOX/CODE/Algorithms_and...</td>\n",
       "      <td>0.0</td>\n",
       "      <td>0.0</td>\n",
       "      <td>0</td>\n",
       "      <td>4.031484e-06</td>\n",
       "    </tr>\n",
       "    <tr>\n",
       "      <th>1</th>\n",
       "      <td>/Users/lohar/Dropbox/PSDOX/CODE/Algorithms_and...</td>\n",
       "      <td>/Users/lohar/Dropbox/PSDOX/CODE/Algorithms_and...</td>\n",
       "      <td>/Users/lohar/Dropbox/PSDOX/CODE/Algorithms_and...</td>\n",
       "      <td>0.0</td>\n",
       "      <td>0.0</td>\n",
       "      <td>0</td>\n",
       "      <td>9.378605e-07</td>\n",
       "    </tr>\n",
       "    <tr>\n",
       "      <th>2</th>\n",
       "      <td>/Users/lohar/Dropbox/PSDOX/CODE/Algorithms_and...</td>\n",
       "      <td>/Users/lohar/Dropbox/PSDOX/CODE/Algorithms_and...</td>\n",
       "      <td>/Users/lohar/Dropbox/PSDOX/CODE/Algorithms_and...</td>\n",
       "      <td>0.0</td>\n",
       "      <td>0.0</td>\n",
       "      <td>0</td>\n",
       "      <td>1.948278e-06</td>\n",
       "    </tr>\n",
       "    <tr>\n",
       "      <th>3</th>\n",
       "      <td>/Users/lohar/Dropbox/PSDOX/CODE/Algorithms_and...</td>\n",
       "      <td>/Users/lohar/Dropbox/PSDOX/CODE/Algorithms_and...</td>\n",
       "      <td>/Users/lohar/Dropbox/PSDOX/CODE/Algorithms_and...</td>\n",
       "      <td>0.0</td>\n",
       "      <td>0.0</td>\n",
       "      <td>0</td>\n",
       "      <td>1.396496e-06</td>\n",
       "    </tr>\n",
       "    <tr>\n",
       "      <th>4</th>\n",
       "      <td>/Users/lohar/Dropbox/PSDOX/CODE/Algorithms_and...</td>\n",
       "      <td>/Users/lohar/Dropbox/PSDOX/CODE/Algorithms_and...</td>\n",
       "      <td>/Users/lohar/Dropbox/PSDOX/CODE/Algorithms_and...</td>\n",
       "      <td>0.0</td>\n",
       "      <td>0.0</td>\n",
       "      <td>0</td>\n",
       "      <td>2.844180e-06</td>\n",
       "    </tr>\n",
       "  </tbody>\n",
       "</table>\n",
       "</div>"
      ],
      "text/plain": [
       "                                              center  \\\n",
       "0  /Users/lohar/Dropbox/PSDOX/CODE/Algorithms_and...   \n",
       "1  /Users/lohar/Dropbox/PSDOX/CODE/Algorithms_and...   \n",
       "2  /Users/lohar/Dropbox/PSDOX/CODE/Algorithms_and...   \n",
       "3  /Users/lohar/Dropbox/PSDOX/CODE/Algorithms_and...   \n",
       "4  /Users/lohar/Dropbox/PSDOX/CODE/Algorithms_and...   \n",
       "\n",
       "                                                left  \\\n",
       "0  /Users/lohar/Dropbox/PSDOX/CODE/Algorithms_and...   \n",
       "1  /Users/lohar/Dropbox/PSDOX/CODE/Algorithms_and...   \n",
       "2  /Users/lohar/Dropbox/PSDOX/CODE/Algorithms_and...   \n",
       "3  /Users/lohar/Dropbox/PSDOX/CODE/Algorithms_and...   \n",
       "4  /Users/lohar/Dropbox/PSDOX/CODE/Algorithms_and...   \n",
       "\n",
       "                                               right  steer  throttle  brake  \\\n",
       "0  /Users/lohar/Dropbox/PSDOX/CODE/Algorithms_and...    0.0       0.0      0   \n",
       "1  /Users/lohar/Dropbox/PSDOX/CODE/Algorithms_and...    0.0       0.0      0   \n",
       "2  /Users/lohar/Dropbox/PSDOX/CODE/Algorithms_and...    0.0       0.0      0   \n",
       "3  /Users/lohar/Dropbox/PSDOX/CODE/Algorithms_and...    0.0       0.0      0   \n",
       "4  /Users/lohar/Dropbox/PSDOX/CODE/Algorithms_and...    0.0       0.0      0   \n",
       "\n",
       "          speed  \n",
       "0  4.031484e-06  \n",
       "1  9.378605e-07  \n",
       "2  1.948278e-06  \n",
       "3  1.396496e-06  \n",
       "4  2.844180e-06  "
      ]
     },
     "execution_count": 4,
     "metadata": {},
     "output_type": "execute_result"
    }
   ],
   "source": [
    "data.head()"
   ]
  },
  {
   "cell_type": "markdown",
   "metadata": {},
   "source": [
    "## Summary of data set\n",
    "* Y is steering values, ranges between -1 and 1. Right turns are positive values, left turns are negative values (check exploration of Y below)."
   ]
  },
  {
   "cell_type": "markdown",
   "metadata": {},
   "source": [
    "## Create a training dataset\n",
    "* The data (X) are the images, and the labels (Y) are the steering values. \n",
    "* X = right, center, left images. \n",
    "    * X = A concatention of individual image-sets created from the csv-created dataframe.\n",
    "    * Concatenate corresponding Ys. \n",
    "    * Sent through reshape() to reshape. \n",
    "    * Split into X_train, X_valid and X_test sets. \n",
    "* Ys = concatenate(Y_center, Y_left, Y_right)\n",
    "    * All 3 initially have the same steering angle which doesn't make sense. The steering angle from the POV of the right-camera > steering angle from the center-camera > steering angle from the left-camera. Initially, we will simply choose a displacement value -  I'm setting this to be the standard deviation (0.16 - check cells below.)\n",
    "    * You want to move the car to the center always, w.l.o.g. Hence, if you're pulling slightly to the right normally (equivalent to the center camera), you want to pull *more* to the right when the image looks like the left-camera, and less when it looks like the right-camera image. "
   ]
  },
  {
   "cell_type": "code",
   "execution_count": 5,
   "metadata": {
    "collapsed": false
   },
   "outputs": [],
   "source": [
    "X_center = np.array(data.center.apply(mpimg.imread))\n",
    "X_left = np.array(data.left.apply(mpimg.imread))\n",
    "X_right = np.array(data.right.apply(mpimg.imread))\n",
    "X = np.concatenate((X_center, X_left, X_right))"
   ]
  },
  {
   "cell_type": "code",
   "execution_count": 6,
   "metadata": {
    "collapsed": false
   },
   "outputs": [
    {
     "name": "stdout",
     "output_type": "stream",
     "text": [
      "(8385,) <class 'numpy.ndarray'>\n"
     ]
    }
   ],
   "source": [
    "print(X.shape, type(X))"
   ]
  },
  {
   "cell_type": "code",
   "execution_count": 7,
   "metadata": {
    "collapsed": false
   },
   "outputs": [
    {
     "name": "stdout",
     "output_type": "stream",
     "text": [
      "(160, 320, 3) <class 'numpy.ndarray'>\n"
     ]
    }
   ],
   "source": [
    "print(X[20].shape, type(X[20]))"
   ]
  },
  {
   "cell_type": "code",
   "execution_count": 8,
   "metadata": {
    "collapsed": false
   },
   "outputs": [
    {
     "data": {
      "text/plain": [
       "8385"
      ]
     },
     "execution_count": 8,
     "metadata": {},
     "output_type": "execute_result"
    }
   ],
   "source": [
    "# double check X.shape\n",
    "len(data)*3"
   ]
  },
  {
   "cell_type": "code",
   "execution_count": 9,
   "metadata": {
    "collapsed": false
   },
   "outputs": [
    {
     "data": {
      "text/plain": [
       "numpy.uint8"
      ]
     },
     "execution_count": 9,
     "metadata": {},
     "output_type": "execute_result"
    }
   ],
   "source": [
    "type(min(X[20][0][0])) # check type of data inside the image, appears to be non-negative and uint8."
   ]
  },
  {
   "cell_type": "code",
   "execution_count": 10,
   "metadata": {
    "collapsed": false
   },
   "outputs": [],
   "source": [
    "def reshape(X):\n",
    "    X_new = np.zeros([X.shape[0], *X[0].shape], dtype =  np.uint8 )\n",
    "    for i, _ in enumerate(X):\n",
    "        X_new[i] = X[i]\n",
    "    return X_new"
   ]
  },
  {
   "cell_type": "code",
   "execution_count": 11,
   "metadata": {
    "collapsed": true
   },
   "outputs": [],
   "source": [
    "X = reshape(X)"
   ]
  },
  {
   "cell_type": "code",
   "execution_count": 12,
   "metadata": {
    "collapsed": false
   },
   "outputs": [
    {
     "data": {
      "text/plain": [
       "(8385, 160, 320, 3)"
      ]
     },
     "execution_count": 12,
     "metadata": {},
     "output_type": "execute_result"
    }
   ],
   "source": [
    "X.shape"
   ]
  },
  {
   "cell_type": "code",
   "execution_count": 13,
   "metadata": {
    "collapsed": true
   },
   "outputs": [],
   "source": [
    "displacement = 0.16\n",
    "Y_center = np.array(data.steer)\n",
    "Y_left = Y_center + displacement\n",
    "Y_right = Y_center - displacement"
   ]
  },
  {
   "cell_type": "code",
   "execution_count": 14,
   "metadata": {
    "collapsed": false
   },
   "outputs": [],
   "source": [
    "Y = np.concatenate((Y_center, Y_left, Y_right))"
   ]
  },
  {
   "cell_type": "code",
   "execution_count": 15,
   "metadata": {
    "collapsed": false
   },
   "outputs": [
    {
     "data": {
      "text/plain": [
       "(8385,)"
      ]
     },
     "execution_count": 15,
     "metadata": {},
     "output_type": "execute_result"
    }
   ],
   "source": [
    "Y.shape"
   ]
  },
  {
   "cell_type": "code",
   "execution_count": 16,
   "metadata": {
    "collapsed": false
   },
   "outputs": [
    {
     "name": "stdout",
     "output_type": "stream",
     "text": [
      "<class 'numpy.float64'> 1.16 -1.16 -0.0333893028823\n"
     ]
    }
   ],
   "source": [
    "print(type(Y[0]), max(Y), min(Y), np.mean(Y))"
   ]
  },
  {
   "cell_type": "code",
   "execution_count": 17,
   "metadata": {
    "collapsed": false
   },
   "outputs": [
    {
     "data": {
      "text/plain": [
       "count    2795.000000\n",
       "mean       -0.033389\n",
       "std         0.162217\n",
       "min        -1.000000\n",
       "25%         0.000000\n",
       "50%         0.000000\n",
       "75%         0.000000\n",
       "max         1.000000\n",
       "Name: steer, dtype: float64"
      ]
     },
     "execution_count": 17,
     "metadata": {},
     "output_type": "execute_result"
    }
   ],
   "source": [
    "data.steer.describe()"
   ]
  },
  {
   "cell_type": "code",
   "execution_count": 18,
   "metadata": {
    "collapsed": false
   },
   "outputs": [
    {
     "data": {
      "text/plain": [
       "array([-1.        , -0.9651011 , -0.961834  , -0.9500002 , -0.924536  ,\n",
       "       -0.9195208 , -0.8500001 , -0.8236659 , -0.8151882 , -0.8000001 ,\n",
       "       -0.7946991 , -0.7946583 , -0.774931  , -0.774536  , -0.7710571 ,\n",
       "       -0.7500002 , -0.7428445 , -0.7296219 , -0.7135858 , -0.6954792 ,\n",
       "       -0.6841047 , -0.6736658 , -0.6582028 , -0.6500001 , -0.623337  ,\n",
       "       -0.6130199 , -0.6040531 , -0.6000001 , -0.594988  , -0.594699  ,\n",
       "       -0.5745601 , -0.5657728 , -0.564256  , -0.5591755 , -0.5520607 ,\n",
       "       -0.5500001 , -0.5476888 , -0.542787  , -0.5352479 , -0.524278  ,\n",
       "       -0.5210311 , -0.5135857 , -0.5096909 , -0.506103  , -0.5000001 ,\n",
       "       -0.494904  , -0.490647  , -0.4780229 , -0.4684348 , -0.4673551 ,\n",
       "       -0.4611211 , -0.4571263 , -0.4537409 , -0.4504291 , -0.45      ,\n",
       "       -0.4497389 , -0.4370849 , -0.43705   , -0.4360351 , -0.4333738 ,\n",
       "       -0.430521  , -0.4284511 , -0.4275749 , -0.420015  , -0.4196757 ,\n",
       "       -0.4179237 , -0.4167239 , -0.4142309 , -0.4129751 , -0.4127369 ,\n",
       "       -0.410952  , -0.403158  , -0.4       , -0.3927869 , -0.392031  ,\n",
       "       -0.3886381 , -0.385773  , -0.3840153 , -0.3840088 , -0.3817921 ,\n",
       "       -0.3792808 , -0.3786957 , -0.3779011 , -0.3752162 , -0.3746041 ,\n",
       "       -0.3706977 , -0.3678539 , -0.3663089 , -0.364256  , -0.3626372 ,\n",
       "       -0.362034  , -0.36186   , -0.3593971 , -0.35694   , -0.3545308 ,\n",
       "       -0.35      , -0.3494008 , -0.3388202 , -0.338544  , -0.3327209 ,\n",
       "       -0.3295475 , -0.329244  , -0.3271712 , -0.327129  , -0.3260669 ,\n",
       "       -0.324393  , -0.322818  , -0.321702  , -0.3206469 , -0.3184771 ,\n",
       "       -0.3176129 , -0.316344  , -0.315399  , -0.3148291 , -0.3146219 ,\n",
       "       -0.3132572 , -0.311358  , -0.3089281 , -0.3081179 , -0.3073495 ,\n",
       "       -0.3071262 , -0.3030269 , -0.301584  , -0.3       , -0.298404  ,\n",
       "       -0.2964521 , -0.2954972 , -0.2954729 , -0.2932439 , -0.2870499 ,\n",
       "       -0.2865481 , -0.2859723 , -0.28338   , -0.2787961 , -0.2779081 ,\n",
       "       -0.274125  , -0.2701229 , -0.2691808 , -0.2687881 , -0.2639939 ,\n",
       "       -0.2596772 , -0.2578679 , -0.2554709 , -0.2545291 , -0.2527619 ,\n",
       "       -0.25      , -0.24942   , -0.246129  , -0.2423249 , -0.2419982 ,\n",
       "       -0.241581  , -0.2408999 , -0.2408879 , -0.2402068 , -0.2393219 ,\n",
       "       -0.239154  , -0.2377079 , -0.2375638 , -0.23751   , -0.2367119 ,\n",
       "       -0.2352297 , -0.2329257 , -0.2325178 , -0.230226  , -0.2265691 ,\n",
       "       -0.226242  , -0.2253989 , -0.2242709 , -0.2232658 , -0.2229599 ,\n",
       "       -0.2201487 , -0.2177941 , -0.217434  , -0.2167979 , -0.2149141 ,\n",
       "       -0.214829  , -0.211068  , -0.2094929 , -0.2093189 , -0.2076091 ,\n",
       "       -0.206934  , -0.2066131 , -0.201091  , -0.2005261 , -0.200148  ,\n",
       "       -0.2       , -0.1990559 , -0.1972919 , -0.1960707 , -0.1944183 ,\n",
       "       -0.1927869 , -0.1904551 , -0.1861172 , -0.1829608 , -0.1826969 ,\n",
       "       -0.182679  , -0.1826638 , -0.182502  , -0.1814278 , -0.1781818 ,\n",
       "       -0.1755179 , -0.1755001 , -0.1751142 , -0.169617  , -0.1679338 ,\n",
       "       -0.1665568 , -0.164256  , -0.1625699 , -0.1616097 , -0.1609501 ,\n",
       "       -0.160491  , -0.1542392 , -0.151746  , -0.1513619 , -0.15      ,\n",
       "       -0.1489468 , -0.1488128 , -0.148275  , -0.1475253 , -0.1431507 ,\n",
       "       -0.1381704 , -0.1369021 , -0.1334608 , -0.13338   , -0.1314091 ,\n",
       "       -0.128427  , -0.127965  , -0.1237741 , -0.1217669 , -0.1200963 ,\n",
       "       -0.1177229 , -0.1176721 , -0.1158661 , -0.112281  , -0.1110182 ,\n",
       "       -0.1075741 , -0.1071262 , -0.10572   , -0.1036652 , -0.1012232 ,\n",
       "       -0.1       , -0.09881705, -0.09734112, -0.09604508, -0.09435278,\n",
       "       -0.09363002, -0.09091491, -0.08780694, -0.08596193, -0.08274311,\n",
       "       -0.08200818, -0.08030677, -0.07893044, -0.07842296, -0.07512599,\n",
       "       -0.07365292, -0.07340705, -0.07241106, -0.072339  , -0.07088399,\n",
       "       -0.06978303, -0.06975603, -0.06789279, -0.06637806, -0.06575799,\n",
       "       -0.06562507, -0.06482904, -0.06478804, -0.06467986, -0.06212121,\n",
       "       -0.062118  , -0.06053674, -0.05941182, -0.05451286, -0.05216682,\n",
       "       -0.05      , -0.04909783, -0.04787403, -0.04642206, -0.04495203,\n",
       "       -0.0444569 , -0.04103994, -0.03964502, -0.03870016, -0.03779697,\n",
       "       -0.03710675, -0.03543878, -0.0271259 , -0.02662218, -0.02481008,\n",
       "       -0.02444994, -0.0214169 , -0.02079588, -0.02073294, -0.01731902,\n",
       "       -0.01602012, -0.01360202, -0.00947392, -0.00910503, -0.00772476,\n",
       "       -0.004798  , -0.00368983, -0.00346524, -0.00252897,  0.        ,\n",
       "        0.00298798,  0.00333595,  0.00710392,  0.04312187,  0.05      ,\n",
       "        0.05277014,  0.05960691,  0.06005698,  0.07271013,  0.1       ,\n",
       "        0.1039892 ,  0.108087  ,  0.1134873 ,  0.120195  ,  0.1233991 ,\n",
       "        0.1306421 ,  0.1436371 ,  0.15      ,  0.158029  ,  0.1616519 ,\n",
       "        0.1860391 ,  0.1863209 ,  0.2       ,  0.200025  ,  0.2103639 ,\n",
       "        0.2141161 ,  0.2202208 ,  0.2229091 ,  0.230145  ,  0.2320919 ,\n",
       "        0.243747  ,  0.25      ,  0.2523479 ,  0.2527701 ,  0.2691838 ,\n",
       "        0.2727101 ,  0.2786583 ,  0.2938769 ,  0.2981822 ,  0.3       ,\n",
       "        0.3167312 ,  0.3360683 ,  0.338358  ,  0.35      ,  0.363483  ,\n",
       "        0.3636569 ,  0.3722351 ,  0.3762752 ,  0.3785223 ,  0.392767  ,\n",
       "        0.4       ,  0.4087683 ,  0.410647  ,  0.4156349 ,  0.4227102 ,\n",
       "        0.427623  ,  0.4343671 ,  0.4359328 ,  0.4375561 ,  0.45      ,\n",
       "        0.4527701 ,  0.457935  ,  0.4861228 ,  0.4866389 ,  0.5000001 ,\n",
       "        0.5360684 ,  0.5405248 ,  0.5496939 ,  0.5500001 ,  0.569259  ,\n",
       "        0.5727102 ,  0.6000001 ,  0.628477  ,  0.634078  ,  0.6449043 ,\n",
       "        0.649386  ,  0.6753479 ,  0.7       ,  0.7500002 ,  0.8000001 ,\n",
       "        0.801295  ,  0.813481  ,  0.8500001 ,  0.850771  ,  0.9000002 ,  1.        ])"
      ]
     },
     "execution_count": 18,
     "metadata": {},
     "output_type": "execute_result"
    }
   ],
   "source": [
    "np.unique(data.steer) # get an idea of what the values look like - how many decimal points, etc. \n",
    "# The std dev provides us some of this info as well."
   ]
  },
  {
   "cell_type": "code",
   "execution_count": 23,
   "metadata": {
    "collapsed": false
   },
   "outputs": [
    {
     "data": {
      "text/plain": [
       "<matplotlib.axes._subplots.AxesSubplot at 0x1ba81a160>"
      ]
     },
     "execution_count": 23,
     "metadata": {},
     "output_type": "execute_result"
    },
    {
     "data": {
      "image/png": "[encoded data removed]",
      "text/plain": [
       "<matplotlib.figure.Figure at 0x11f376cf8>"
      ]
     },
     "metadata": {},
     "output_type": "display_data"
    }
   ],
   "source": [
    "data.steer.hist()"
   ]
  },
  {
   "cell_type": "markdown",
   "metadata": {},
   "source": [
    "### Steering value 0.0 represents the bulk of the dataset which is not in the least surprising. There are a significant number of stable or resting states where no steering is required, i.e., the steering angle is 0. Since we are interested in states where steering is required (that's what our model is trying to learn), the distribution of non-zero values is far more useful:"
   ]
  },
  {
   "cell_type": "code",
   "execution_count": 27,
   "metadata": {
    "collapsed": false
   },
   "outputs": [
    {
     "data": {
      "text/plain": [
       "<matplotlib.axes._subplots.AxesSubplot at 0x1bac39f28>"
      ]
     },
     "execution_count": 27,
     "metadata": {},
     "output_type": "execute_result"
    },
    {
     "data": {
      "image/png": "[encoded data removed]",
      "text/plain": [
       "<matplotlib.figure.Figure at 0x1bab96eb8>"
      ]
     },
     "metadata": {},
     "output_type": "display_data"
    }
   ],
   "source": [
    "(data.steer[data['steer'] != 0]).hist()"
   ]
  },
  {
   "cell_type": "markdown",
   "metadata": {},
   "source": [
    "### The data now appears less skewed, approximating a normal distribution. "
   ]
  },
  {
   "cell_type": "code",
   "execution_count": 28,
   "metadata": {
    "collapsed": false
   },
   "outputs": [
    {
     "data": {
      "text/plain": [
       "dtype('float64')"
      ]
     },
     "execution_count": 28,
     "metadata": {},
     "output_type": "execute_result"
    }
   ],
   "source": [
    "Y.dtype"
   ]
  },
  {
   "cell_type": "markdown",
   "metadata": {},
   "source": [
    "### Augmenting data by flipping the image horizontally. "
   ]
  },
  {
   "cell_type": "code",
   "execution_count": 29,
   "metadata": {
    "collapsed": true
   },
   "outputs": [],
   "source": [
    "# augment data\n",
    "def augment_data(X, y):\n",
    "    X_new = np.zeros([X.shape[0]*2, *X.shape[1:]], dtype=np.uint8)\n",
    "    y_new = np.zeros([y.shape[0]*2, *y.shape[1:]], dtype=np.float64)\n",
    "    for i, _ in enumerate(X):\n",
    "        X_new[i] = X[i]\n",
    "        y_new[i] = y[i]\n",
    "        X_new[i+1] = np.fliplr(X[i])\n",
    "        y_new[i+1] = -1.0*y[i]\n",
    "    return X_new, y_new    \n",
    "    "
   ]
  },
  {
   "cell_type": "code",
   "execution_count": 30,
   "metadata": {
    "collapsed": true
   },
   "outputs": [],
   "source": [
    "X, Y = augment_data(X, Y)"
   ]
  },
  {
   "cell_type": "code",
   "execution_count": 31,
   "metadata": {
    "collapsed": false
   },
   "outputs": [
    {
     "name": "stdout",
     "output_type": "stream",
     "text": [
      "(16770, 160, 320, 3) (16770,)\n"
     ]
    }
   ],
   "source": [
    "print(X.shape, Y.shape)"
   ]
  },
  {
   "cell_type": "markdown",
   "metadata": {},
   "source": [
    "### Creating train, validation and test data sets. "
   ]
  },
  {
   "cell_type": "code",
   "execution_count": 32,
   "metadata": {
    "collapsed": true
   },
   "outputs": [],
   "source": [
    "# shuffle X, Y now. Then split in the 3 data sets. \n",
    "from sklearn.utils import shuffle\n",
    "X, Y = shuffle(X, Y)"
   ]
  },
  {
   "cell_type": "code",
   "execution_count": 33,
   "metadata": {
    "collapsed": true
   },
   "outputs": [],
   "source": [
    "last_tenth = int(0.9*len(X))\n",
    "X_test = X[last_tenth:]\n",
    "y_test = Y[last_tenth:]"
   ]
  },
  {
   "cell_type": "code",
   "execution_count": 34,
   "metadata": {
    "collapsed": true
   },
   "outputs": [],
   "source": [
    "from sklearn.model_selection import train_test_split\n",
    "X_train, X_valid, y_train, y_valid = train_test_split(X[:last_tenth], Y[:last_tenth], test_size=0.25, random_state=13)"
   ]
  },
  {
   "cell_type": "code",
   "execution_count": 35,
   "metadata": {
    "collapsed": false
   },
   "outputs": [
    {
     "name": "stdout",
     "output_type": "stream",
     "text": [
      "(11319, 160, 320, 3) (11319,)\n"
     ]
    }
   ],
   "source": [
    "print(X_train.shape, y_train.shape)"
   ]
  },
  {
   "cell_type": "code",
   "execution_count": 36,
   "metadata": {
    "collapsed": false
   },
   "outputs": [
    {
     "name": "stdout",
     "output_type": "stream",
     "text": [
      "(3774, 160, 320, 3) (3774,)\n"
     ]
    }
   ],
   "source": [
    "print(X_valid.shape, y_valid.shape)"
   ]
  },
  {
   "cell_type": "code",
   "execution_count": 37,
   "metadata": {
    "collapsed": false
   },
   "outputs": [
    {
     "name": "stdout",
     "output_type": "stream",
     "text": [
      "(1677, 160, 320, 3) (1677,)\n"
     ]
    }
   ],
   "source": [
    "print(X_test.shape, y_test.shape)"
   ]
  },
  {
   "cell_type": "markdown",
   "metadata": {},
   "source": [
    "### Models\n",
    "* 3 models - \n",
    "    * Basic - just to confirm the pipeline's working. The car barely drives. \n",
    "    * LeNet - gives good results - the car drives excellently, but goes completely off the track once. \n",
    "    * Nvidia - gives excellent results - drives mistake-free for an indefinite number of laps. This is our final model. "
   ]
  },
  {
   "cell_type": "code",
   "execution_count": 93,
   "metadata": {
    "collapsed": false
   },
   "outputs": [
    {
     "name": "stderr",
     "output_type": "stream",
     "text": [
      "Using TensorFlow backend.\n"
     ]
    },
    {
     "name": "stdout",
     "output_type": "stream",
     "text": [
      "Train on 5055 samples, validate on 2491 samples\n",
      "Epoch 1/10\n",
      "5055/5055 [==============================] - 10s - loss: 11565623.4775 - val_loss: 12533.2820\n",
      "Epoch 2/10\n",
      "5055/5055 [==============================] - 7s - loss: 5758.0962 - val_loss: 3036.2135\n",
      "Epoch 3/10\n",
      "5055/5055 [==============================] - 7s - loss: 3198.8927 - val_loss: 2703.6173\n",
      "Epoch 4/10\n",
      "5055/5055 [==============================] - 8s - loss: 2508.8065 - val_loss: 2810.3416\n",
      "Epoch 5/10\n",
      "5055/5055 [==============================] - 7s - loss: 2413.2011 - val_loss: 1567.0189\n",
      "Epoch 6/10\n",
      "5055/5055 [==============================] - 7s - loss: 2579.7226 - val_loss: 1927.2532\n",
      "Epoch 7/10\n",
      "5055/5055 [==============================] - 8s - loss: 1929.2491 - val_loss: 1863.0621\n",
      "Epoch 8/10\n",
      "5055/5055 [==============================] - 7s - loss: 2101.5050 - val_loss: 2469.8523\n",
      "Epoch 9/10\n",
      "5055/5055 [==============================] - 7s - loss: 2135.4561 - val_loss: 6434.9844\n",
      "Epoch 10/10\n",
      "5055/5055 [==============================] - 8s - loss: 2572.6311 - val_loss: 4189.5791\n"
     ]
    }
   ],
   "source": [
    "# our Keras model # basic, just to see if the pipeline is working\n",
    "from keras.models import Sequential\n",
    "from keras.layers import Flatten, Dense\n",
    "from keras.layers.convolutional import Convolution2D\n",
    "\n",
    "def model_basic(X_train, y_train, X_valid, y_valid): \n",
    "    model = Sequential()\n",
    "    model.add(Flatten(input_shape=(160,320,3)))\n",
    "    model.add(Dense(1))\n",
    "    model.compile(loss='mse', optimizer='adam')\n",
    "    model.fit(X_train, y_train, validation_data=(X_valid, y_valid)) # default epochs=10, default batch_size = 32\n",
    "    model.save('model_basic.h5')\n",
    "\n",
    "model_basic(X_train, y_train, X_valid, y_valid)    "
   ]
  },
  {
   "cell_type": "code",
   "execution_count": 159,
   "metadata": {
    "collapsed": true
   },
   "outputs": [],
   "source": [
    "def model_LeNet(X_train, y_train, X_valid, y_valid):\n",
    "    model = Sequential()\n",
    "    model.add(Cropping2D(cropping=((70,25), (1,1)), input_shape=(160,320,3)))\n",
    "    model.add(Lambda(lambda x : (x -128.)/ 128.))\n",
    "    print(\"model shape is \", model.output_shape)\n",
    "    model.add(Convolution2D(6,5,5, activation='relu'))\n",
    "    model.add(MaxPooling2D())\n",
    "    model.add(Convolution2D(6,5,5, activation='relu'))\n",
    "    model.add(MaxPooling2D())\n",
    "    model.add(Flatten())\n",
    "    model.add(Dense(120))\n",
    "    model.add(Dense(84))\n",
    "    model.add(Dense(1))\n",
    "    model.compile(loss='mse', optimizer='adam')\n",
    "    model.fit(X_train, y_train, validation_data=(X_valid, y_valid), batch_size=128, nb_epoch=5) # default epochs=10, default batch_size = 32\n",
    "    model.save('model_lenet.h5')\n",
    "    "
   ]
  },
  {
   "cell_type": "code",
   "execution_count": 160,
   "metadata": {
    "collapsed": false
   },
   "outputs": [
    {
     "name": "stdout",
     "output_type": "stream",
     "text": [
      "model shape is  (None, 65, 318, 3)\n",
      "Train on 11319 samples, validate on 3774 samples\n",
      "Epoch 1/5\n",
      "11319/11319 [==============================] - 383s - loss: 5.2987 - val_loss: 0.0227\n",
      "Epoch 2/5\n",
      "11319/11319 [==============================] - 361s - loss: 0.0230 - val_loss: 0.0208\n",
      "Epoch 3/5\n",
      "11319/11319 [==============================] - 324s - loss: 0.0218 - val_loss: 0.0197\n",
      "Epoch 4/5\n",
      "11319/11319 [==============================] - 327s - loss: 0.0207 - val_loss: 0.0189\n",
      "Epoch 5/5\n",
      "11319/11319 [==============================] - 322s - loss: 0.0199 - val_loss: 0.0182\n"
     ]
    }
   ],
   "source": [
    "model_LeNet(X_train, y_train, X_valid, y_valid)"
   ]
  },
  {
   "cell_type": "code",
   "execution_count": 42,
   "metadata": {
    "collapsed": false
   },
   "outputs": [
    {
     "name": "stdout",
     "output_type": "stream",
     "text": [
      "model shape is  (None, 65, 318, 3)\n",
      "Train on 11319 samples, validate on 3774 samples\n",
      "Epoch 1/10\n",
      "11319/11319 [==============================] - 254s - loss: 0.0210 - val_loss: 0.0155\n",
      "Epoch 2/10\n",
      "11319/11319 [==============================] - 255s - loss: 0.0173 - val_loss: 0.0141\n",
      "Epoch 3/10\n",
      "11319/11319 [==============================] - 237s - loss: 0.0160 - val_loss: 0.0130\n",
      "Epoch 4/10\n",
      "11319/11319 [==============================] - 240s - loss: 0.0149 - val_loss: 0.0117\n",
      "Epoch 5/10\n",
      "11319/11319 [==============================] - 253s - loss: 0.0138 - val_loss: 0.0136\n",
      "Epoch 6/10\n",
      "11319/11319 [==============================] - 266s - loss: 0.0137 - val_loss: 0.0114\n",
      "Epoch 7/10\n",
      "11319/11319 [==============================] - 231s - loss: 0.0127 - val_loss: 0.0116\n",
      "Epoch 8/10\n",
      "11319/11319 [==============================] - 209s - loss: 0.0119 - val_loss: 0.0117\n",
      "Epoch 9/10\n",
      "11319/11319 [==============================] - 209s - loss: 0.0119 - val_loss: 0.0105\n",
      "Epoch 10/10\n",
      "11319/11319 [==============================] - 203s - loss: 0.0116 - val_loss: 0.0108\n",
      "dict_keys(['loss', 'val_loss'])\n"
     ]
    },
    {
     "data": {
      "image/png": "[encoded data removed]",
      "text/plain": [
       "<matplotlib.figure.Figure at 0x192bc0cc0>"
      ]
     },
     "metadata": {},
     "output_type": "display_data"
    }
   ],
   "source": [
    "def model_nvidia(X_train, y_train, X_valid, y_valid):\n",
    "    model = Sequential()\n",
    "    model.add(Cropping2D(cropping=((70,25), (1,1)), input_shape=(160,320,3)))\n",
    "    model.add(Lambda(lambda x : (x -128.)/ 128.))\n",
    "    print(\"model shape is \", model.output_shape)\n",
    "    model.add(Convolution2D(24,5,5, subsample =(2,2), activation='relu'))\n",
    "    model.add(Convolution2D(36,5,5, subsample =(2,2), activation='relu'))\n",
    "    model.add(Convolution2D(48,5,5, subsample =(2,2), activation='relu'))\n",
    "    model.add(Convolution2D(64,3,3, activation='relu'))\n",
    "    model.add(Convolution2D(64,3,3, activation='relu'))\n",
    "    model.add(Flatten())\n",
    "    model.add(Dense(100))\n",
    "    model.add(Dense(50))\n",
    "    model.add(Dense(10))\n",
    "    model.add(Dense(1))\n",
    "    model.compile(loss='mse', optimizer='adam')\n",
    "    history_obj = model.fit(X_train, y_train, validation_data=(X_valid, y_valid), batch_size=128, nb_epoch=10) # default epochs=10, default batch_size = 32\n",
    "    display_loss(history_obj)\n",
    "    model.save('model_nvidia.h5')\n",
    " \n",
    "model_nvidia(X_train, y_train, X_valid, y_valid)    "
   ]
  },
  {
   "cell_type": "code",
   "execution_count": 40,
   "metadata": {
    "collapsed": false
   },
   "outputs": [],
   "source": [
    "def display_loss(history_obj):\n",
    "    ### print the keys contained in the history object\n",
    "    print(history_obj.history.keys())\n",
    "\n",
    "    ### plot the training and validation loss for each epoch\n",
    "    plt.plot(history_obj.history['loss'])\n",
    "    plt.plot(history_obj.history['val_loss'])\n",
    "    plt.title('model mean squared error loss')\n",
    "    plt.ylabel('mean squared error loss')\n",
    "    plt.xlabel('epoch')\n",
    "    plt.legend(['training set', 'validation set'], loc='upper right')\n",
    "    plt.show()"
   ]
  },
  {
   "cell_type": "code",
   "execution_count": null,
   "metadata": {
    "collapsed": true
   },
   "outputs": [],
   "source": []
  }
 ],
 "metadata": {
  "anaconda-cloud": {},
  "kernelspec": {
   "display_name": "Python [conda env:LaneLines]",
   "language": "python",
   "name": "conda-env-LaneLines-py"
  },
  "language_info": {
   "codemirror_mode": {
    "name": "ipython",
    "version": 3
   },
   "file_extension": ".py",
   "mimetype": "text/x-python",
   "name": "python",
   "nbconvert_exporter": "python",
   "pygments_lexer": "ipython3",
   "version": "3.5.2"
  }
 },
 "nbformat": 4,
 "nbformat_minor": 1
}
